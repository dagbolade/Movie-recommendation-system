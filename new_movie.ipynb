{
 "cells": [
  {
   "cell_type": "code",
   "execution_count": 27,
   "metadata": {
    "collapsed": true
   },
   "outputs": [],
   "source": [
    "import pandas as pd\n",
    "import numpy as np\n"
   ]
  },
  {
   "cell_type": "markdown",
   "source": [
    "DATA CLEANING AND PREPROCESSING"
   ],
   "metadata": {
    "collapsed": false
   }
  },
  {
   "cell_type": "code",
   "execution_count": 28,
   "outputs": [
    {
     "name": "stdout",
     "output_type": "stream",
     "text": [
      "<class 'pandas.core.frame.DataFrame'>\n",
      "RangeIndex: 10000 entries, 0 to 9999\n",
      "Data columns (total 23 columns):\n",
      " #   Column                Non-Null Count  Dtype  \n",
      "---  ------                --------------  -----  \n",
      " 0   Unnamed: 0            10000 non-null  int64  \n",
      " 1   movie_id              10000 non-null  int64  \n",
      " 2   title                 10000 non-null  object \n",
      " 3   overview              9915 non-null   object \n",
      " 4   keywords              10000 non-null  object \n",
      " 5   genres                10000 non-null  object \n",
      " 6   release_date          9977 non-null   object \n",
      " 7   original_language     10000 non-null  object \n",
      " 8   original_title        10000 non-null  object \n",
      " 9   production_companies  10000 non-null  object \n",
      " 10  revenue               10000 non-null  int64  \n",
      " 11  status                10000 non-null  object \n",
      " 12  tagline               7320 non-null   object \n",
      " 13  spoken_languages      10000 non-null  object \n",
      " 14  runtime               10000 non-null  int64  \n",
      " 15  budget                10000 non-null  int64  \n",
      " 16  vote_count            10000 non-null  int64  \n",
      " 17  vote_average          10000 non-null  float64\n",
      " 18  popularity            10000 non-null  float64\n",
      " 19  adult_tf              10000 non-null  bool   \n",
      " 20  poster_path           9970 non-null   object \n",
      " 21  cast                  10000 non-null  object \n",
      " 22  crew                  10000 non-null  object \n",
      "dtypes: bool(1), float64(2), int64(6), object(14)\n",
      "memory usage: 1.7+ MB\n"
     ]
    }
   ],
   "source": [
    "movies_df = pd.read_csv(r'TMDB.csv')\n",
    "movies_df.info()"
   ],
   "metadata": {
    "collapsed": false
   }
  },
  {
   "cell_type": "code",
   "execution_count": 29,
   "outputs": [
    {
     "name": "stdout",
     "output_type": "stream",
     "text": [
      "<class 'pandas.core.frame.DataFrame'>\n",
      "RangeIndex: 10000 entries, 0 to 9999\n",
      "Data columns (total 9 columns):\n",
      " #   Column        Non-Null Count  Dtype  \n",
      "---  ------        --------------  -----  \n",
      " 0   movie_id      10000 non-null  int64  \n",
      " 1   title         10000 non-null  object \n",
      " 2   overview      9915 non-null   object \n",
      " 3   genres        10000 non-null  object \n",
      " 4   keywords      10000 non-null  object \n",
      " 5   cast          10000 non-null  object \n",
      " 6   crew          10000 non-null  object \n",
      " 7   vote_count    10000 non-null  int64  \n",
      " 8   vote_average  10000 non-null  float64\n",
      "dtypes: float64(1), int64(2), object(6)\n",
      "memory usage: 703.2+ KB\n"
     ]
    }
   ],
   "source": [
    "#selecting the columns that are needed\n",
    "movies_df = movies_df[['movie_id','title','overview','genres','keywords','cast','crew','vote_count','vote_average']]\n",
    "movies_df.info()"
   ],
   "metadata": {
    "collapsed": false
   }
  },
  {
   "cell_type": "code",
   "execution_count": 30,
   "outputs": [
    {
     "data": {
      "text/plain": "   movie_id                                              title  \\\n0     76600                           Avatar: The Way of Water   \n1    661374                  Glass Onion: A Knives Out Mystery   \n2    899112                                      Violent Night   \n3       411  The Chronicles of Narnia: The Lion, the Witch ...   \n4    436270                                         Black Adam   \n\n                                            overview  \\\n0  Set more than a decade after the events of the...   \n1  World-famous detective Benoit Blanc heads to G...   \n2  When a team of mercenaries breaks into a wealt...   \n3  Siblings Lucy, Edmund, Susan and Peter step th...   \n4  Nearly 5,000 years after he was bestowed with ...   \n\n                                              genres  \\\n0  [{'id': 878, 'name': 'Science Fiction'}, {'id'...   \n1  [{'id': 9648, 'name': 'Mystery'}, {'id': 53, '...   \n2  [{'id': 28, 'name': 'Action'}, {'id': 35, 'nam...   \n3  [{'id': 12, 'name': 'Adventure'}, {'id': 10751...   \n4  [{'id': 28, 'name': 'Action'}, {'id': 14, 'nam...   \n\n                                            keywords  \\\n0  [{'id': 697, 'name': 'loss of loved one'}, {'i...   \n1  [{'id': 703, 'name': 'detective'}, {'id': 1200...   \n2  [{'id': 65, 'name': 'holiday'}, {'id': 1991, '...   \n3  [{'id': 83, 'name': 'saving the world'}, {'id'...   \n4  [{'id': 952, 'name': 'lightning'}, {'id': 2095...   \n\n                                                cast  \\\n0  [{'adult': False, 'gender': 2, 'id': 65731, 'k...   \n1  [{'adult': False, 'gender': 2, 'id': 8784, 'kn...   \n2  [{'adult': False, 'gender': 2, 'id': 35029, 'k...   \n3  [{'adult': False, 'gender': 2, 'id': 5527, 'kn...   \n4  [{'adult': False, 'gender': 2, 'id': 18918, 'k...   \n\n                                                crew  vote_count  vote_average  \n0  [{'adult': False, 'gender': 2, 'id': 1721, 'kn...        3655         7.711  \n1  [{'adult': False, 'gender': 2, 'id': 1226, 'kn...        2204         7.083  \n2  [{'adult': False, 'gender': 2, 'id': 6114, 'kn...         805         7.742  \n3  [{'adult': False, 'gender': 2, 'id': 1095, 'kn...        9108         7.108  \n4  [{'adult': False, 'gender': 2, 'id': 3687, 'kn...        3544         7.216  ",
      "text/html": "<div>\n<style scoped>\n    .dataframe tbody tr th:only-of-type {\n        vertical-align: middle;\n    }\n\n    .dataframe tbody tr th {\n        vertical-align: top;\n    }\n\n    .dataframe thead th {\n        text-align: right;\n    }\n</style>\n<table border=\"1\" class=\"dataframe\">\n  <thead>\n    <tr style=\"text-align: right;\">\n      <th></th>\n      <th>movie_id</th>\n      <th>title</th>\n      <th>overview</th>\n      <th>genres</th>\n      <th>keywords</th>\n      <th>cast</th>\n      <th>crew</th>\n      <th>vote_count</th>\n      <th>vote_average</th>\n    </tr>\n  </thead>\n  <tbody>\n    <tr>\n      <th>0</th>\n      <td>76600</td>\n      <td>Avatar: The Way of Water</td>\n      <td>Set more than a decade after the events of the...</td>\n      <td>[{'id': 878, 'name': 'Science Fiction'}, {'id'...</td>\n      <td>[{'id': 697, 'name': 'loss of loved one'}, {'i...</td>\n      <td>[{'adult': False, 'gender': 2, 'id': 65731, 'k...</td>\n      <td>[{'adult': False, 'gender': 2, 'id': 1721, 'kn...</td>\n      <td>3655</td>\n      <td>7.711</td>\n    </tr>\n    <tr>\n      <th>1</th>\n      <td>661374</td>\n      <td>Glass Onion: A Knives Out Mystery</td>\n      <td>World-famous detective Benoit Blanc heads to G...</td>\n      <td>[{'id': 9648, 'name': 'Mystery'}, {'id': 53, '...</td>\n      <td>[{'id': 703, 'name': 'detective'}, {'id': 1200...</td>\n      <td>[{'adult': False, 'gender': 2, 'id': 8784, 'kn...</td>\n      <td>[{'adult': False, 'gender': 2, 'id': 1226, 'kn...</td>\n      <td>2204</td>\n      <td>7.083</td>\n    </tr>\n    <tr>\n      <th>2</th>\n      <td>899112</td>\n      <td>Violent Night</td>\n      <td>When a team of mercenaries breaks into a wealt...</td>\n      <td>[{'id': 28, 'name': 'Action'}, {'id': 35, 'nam...</td>\n      <td>[{'id': 65, 'name': 'holiday'}, {'id': 1991, '...</td>\n      <td>[{'adult': False, 'gender': 2, 'id': 35029, 'k...</td>\n      <td>[{'adult': False, 'gender': 2, 'id': 6114, 'kn...</td>\n      <td>805</td>\n      <td>7.742</td>\n    </tr>\n    <tr>\n      <th>3</th>\n      <td>411</td>\n      <td>The Chronicles of Narnia: The Lion, the Witch ...</td>\n      <td>Siblings Lucy, Edmund, Susan and Peter step th...</td>\n      <td>[{'id': 12, 'name': 'Adventure'}, {'id': 10751...</td>\n      <td>[{'id': 83, 'name': 'saving the world'}, {'id'...</td>\n      <td>[{'adult': False, 'gender': 2, 'id': 5527, 'kn...</td>\n      <td>[{'adult': False, 'gender': 2, 'id': 1095, 'kn...</td>\n      <td>9108</td>\n      <td>7.108</td>\n    </tr>\n    <tr>\n      <th>4</th>\n      <td>436270</td>\n      <td>Black Adam</td>\n      <td>Nearly 5,000 years after he was bestowed with ...</td>\n      <td>[{'id': 28, 'name': 'Action'}, {'id': 14, 'nam...</td>\n      <td>[{'id': 952, 'name': 'lightning'}, {'id': 2095...</td>\n      <td>[{'adult': False, 'gender': 2, 'id': 18918, 'k...</td>\n      <td>[{'adult': False, 'gender': 2, 'id': 3687, 'kn...</td>\n      <td>3544</td>\n      <td>7.216</td>\n    </tr>\n  </tbody>\n</table>\n</div>"
     },
     "execution_count": 30,
     "metadata": {},
     "output_type": "execute_result"
    }
   ],
   "source": [
    "movies_df.head(5)"
   ],
   "metadata": {
    "collapsed": false
   }
  },
  {
   "cell_type": "code",
   "execution_count": 31,
   "outputs": [
    {
     "data": {
      "text/plain": "movie_id         0\ntitle            0\noverview        85\ngenres           0\nkeywords         0\ncast             0\ncrew             0\nvote_count       0\nvote_average     0\ndtype: int64"
     },
     "execution_count": 31,
     "metadata": {},
     "output_type": "execute_result"
    }
   ],
   "source": [
    "#checking the total sum of null values in the dataset\n",
    "movies_df.isnull().sum()"
   ],
   "metadata": {
    "collapsed": false
   }
  },
  {
   "cell_type": "code",
   "execution_count": 32,
   "outputs": [
    {
     "name": "stdout",
     "output_type": "stream",
     "text": [
      "<class 'pandas.core.frame.DataFrame'>\n",
      "Int64Index: 9915 entries, 0 to 9999\n",
      "Data columns (total 9 columns):\n",
      " #   Column        Non-Null Count  Dtype  \n",
      "---  ------        --------------  -----  \n",
      " 0   movie_id      9915 non-null   int64  \n",
      " 1   title         9915 non-null   object \n",
      " 2   overview      9915 non-null   object \n",
      " 3   genres        9915 non-null   object \n",
      " 4   keywords      9915 non-null   object \n",
      " 5   cast          9915 non-null   object \n",
      " 6   crew          9915 non-null   object \n",
      " 7   vote_count    9915 non-null   int64  \n",
      " 8   vote_average  9915 non-null   float64\n",
      "dtypes: float64(1), int64(2), object(6)\n",
      "memory usage: 774.6+ KB\n"
     ]
    }
   ],
   "source": [
    "#dropping the rows of the overview column\n",
    "movies_df.dropna(inplace=True)\n",
    "movies_df.info()"
   ],
   "metadata": {
    "collapsed": false
   }
  },
  {
   "cell_type": "code",
   "execution_count": 33,
   "outputs": [
    {
     "data": {
      "text/plain": "1028"
     },
     "execution_count": 33,
     "metadata": {},
     "output_type": "execute_result"
    }
   ],
   "source": [
    "#checking for duplicates\n",
    "movies_df.duplicated().sum()\n"
   ],
   "metadata": {
    "collapsed": false
   }
  },
  {
   "cell_type": "code",
   "execution_count": 34,
   "outputs": [
    {
     "name": "stdout",
     "output_type": "stream",
     "text": [
      "<class 'pandas.core.frame.DataFrame'>\n",
      "Int64Index: 8887 entries, 0 to 9999\n",
      "Data columns (total 9 columns):\n",
      " #   Column        Non-Null Count  Dtype  \n",
      "---  ------        --------------  -----  \n",
      " 0   movie_id      8887 non-null   int64  \n",
      " 1   title         8887 non-null   object \n",
      " 2   overview      8887 non-null   object \n",
      " 3   genres        8887 non-null   object \n",
      " 4   keywords      8887 non-null   object \n",
      " 5   cast          8887 non-null   object \n",
      " 6   crew          8887 non-null   object \n",
      " 7   vote_count    8887 non-null   int64  \n",
      " 8   vote_average  8887 non-null   float64\n",
      "dtypes: float64(1), int64(2), object(6)\n",
      "memory usage: 694.3+ KB\n"
     ]
    }
   ],
   "source": [
    "movies_df.drop_duplicates(inplace=True)\n",
    "movies_df.info()"
   ],
   "metadata": {
    "collapsed": false
   }
  },
  {
   "cell_type": "markdown",
   "source": [
    "Preprocessing the genres column"
   ],
   "metadata": {
    "collapsed": false
   }
  },
  {
   "cell_type": "code",
   "execution_count": 35,
   "outputs": [
    {
     "data": {
      "text/plain": "   movie_id                                              title  \\\n0     76600                           Avatar: The Way of Water   \n1    661374                  Glass Onion: A Knives Out Mystery   \n2    899112                                      Violent Night   \n3       411  The Chronicles of Narnia: The Lion, the Witch ...   \n4    436270                                         Black Adam   \n5    736526                                              Troll   \n6     19995                                             Avatar   \n7    536554                                              M3GAN   \n8    668482                   Roald Dahl's Matilda the Musical   \n9    740952                                   Savage Salvation   \n\n                                            overview  \\\n0  Set more than a decade after the events of the...   \n1  World-famous detective Benoit Blanc heads to G...   \n2  When a team of mercenaries breaks into a wealt...   \n3  Siblings Lucy, Edmund, Susan and Peter step th...   \n4  Nearly 5,000 years after he was bestowed with ...   \n5  Deep inside the mountain of Dovre, something g...   \n6  In the 22nd century, a paraplegic Marine is di...   \n7  A brilliant toy company roboticist uses artifi...   \n8  An extraordinary young girl discovers her supe...   \n9  Newly engaged Shelby John and Ruby Red want a ...   \n\n                                              genres  \\\n0  [{'id': 878, 'name': 'Science Fiction'}, {'id'...   \n1  [{'id': 9648, 'name': 'Mystery'}, {'id': 53, '...   \n2  [{'id': 28, 'name': 'Action'}, {'id': 35, 'nam...   \n3  [{'id': 12, 'name': 'Adventure'}, {'id': 10751...   \n4  [{'id': 28, 'name': 'Action'}, {'id': 14, 'nam...   \n5  [{'id': 14, 'name': 'Fantasy'}, {'id': 28, 'na...   \n6  [{'id': 28, 'name': 'Action'}, {'id': 12, 'nam...   \n7  [{'id': 27, 'name': 'Horror'}, {'id': 878, 'na...   \n8  [{'id': 10751, 'name': 'Family'}, {'id': 35, '...   \n9  [{'id': 28, 'name': 'Action'}, {'id': 53, 'nam...   \n\n                                            keywords  \\\n0  [{'id': 697, 'name': 'loss of loved one'}, {'i...   \n1  [{'id': 703, 'name': 'detective'}, {'id': 1200...   \n2  [{'id': 65, 'name': 'holiday'}, {'id': 1991, '...   \n3  [{'id': 83, 'name': 'saving the world'}, {'id'...   \n4  [{'id': 952, 'name': 'lightning'}, {'id': 2095...   \n5  [{'id': 1262, 'name': 'mountain'}, {'id': 5457...   \n6  [{'id': 1463, 'name': 'culture clash'}, {'id':...   \n7  [{'id': 9707, 'name': 'evil doll'}, {'id': 123...   \n8  [{'id': 291, 'name': 'circus'}, {'id': 295, 'n...   \n9  [{'id': 9748, 'name': 'revenge'}, {'id': 15593...   \n\n                                                cast  \\\n0  [{'adult': False, 'gender': 2, 'id': 65731, 'k...   \n1  [{'adult': False, 'gender': 2, 'id': 8784, 'kn...   \n2  [{'adult': False, 'gender': 2, 'id': 35029, 'k...   \n3  [{'adult': False, 'gender': 2, 'id': 5527, 'kn...   \n4  [{'adult': False, 'gender': 2, 'id': 18918, 'k...   \n5  [{'adult': False, 'gender': 1, 'id': 1394758, ...   \n6  [{'adult': False, 'gender': 2, 'id': 65731, 'k...   \n7  [{'adult': False, 'gender': 1, 'id': 1255540, ...   \n8  [{'adult': False, 'gender': 1, 'id': 2442117, ...   \n9  [{'adult': False, 'gender': 2, 'id': 54738, 'k...   \n\n                                                crew  vote_count  vote_average  \n0  [{'adult': False, 'gender': 2, 'id': 1721, 'kn...        3655         7.711  \n1  [{'adult': False, 'gender': 2, 'id': 1226, 'kn...        2204         7.083  \n2  [{'adult': False, 'gender': 2, 'id': 6114, 'kn...         805         7.742  \n3  [{'adult': False, 'gender': 2, 'id': 1095, 'kn...        9108         7.108  \n4  [{'adult': False, 'gender': 2, 'id': 3687, 'kn...        3544         7.216  \n5  [{'adult': False, 'gender': 2, 'id': 20308, 'k...         940         6.647  \n6  [{'adult': False, 'gender': 2, 'id': 1721, 'kn...       27566         7.558  \n7  [{'adult': False, 'gender': 1, 'id': 494, 'kno...          91         7.110  \n8  [{'adult': False, 'gender': 2, 'id': 463, 'kno...         255         6.822  \n9  [{'adult': False, 'gender': 2, 'id': 17210, 'k...          24         5.500  ",
      "text/html": "<div>\n<style scoped>\n    .dataframe tbody tr th:only-of-type {\n        vertical-align: middle;\n    }\n\n    .dataframe tbody tr th {\n        vertical-align: top;\n    }\n\n    .dataframe thead th {\n        text-align: right;\n    }\n</style>\n<table border=\"1\" class=\"dataframe\">\n  <thead>\n    <tr style=\"text-align: right;\">\n      <th></th>\n      <th>movie_id</th>\n      <th>title</th>\n      <th>overview</th>\n      <th>genres</th>\n      <th>keywords</th>\n      <th>cast</th>\n      <th>crew</th>\n      <th>vote_count</th>\n      <th>vote_average</th>\n    </tr>\n  </thead>\n  <tbody>\n    <tr>\n      <th>0</th>\n      <td>76600</td>\n      <td>Avatar: The Way of Water</td>\n      <td>Set more than a decade after the events of the...</td>\n      <td>[{'id': 878, 'name': 'Science Fiction'}, {'id'...</td>\n      <td>[{'id': 697, 'name': 'loss of loved one'}, {'i...</td>\n      <td>[{'adult': False, 'gender': 2, 'id': 65731, 'k...</td>\n      <td>[{'adult': False, 'gender': 2, 'id': 1721, 'kn...</td>\n      <td>3655</td>\n      <td>7.711</td>\n    </tr>\n    <tr>\n      <th>1</th>\n      <td>661374</td>\n      <td>Glass Onion: A Knives Out Mystery</td>\n      <td>World-famous detective Benoit Blanc heads to G...</td>\n      <td>[{'id': 9648, 'name': 'Mystery'}, {'id': 53, '...</td>\n      <td>[{'id': 703, 'name': 'detective'}, {'id': 1200...</td>\n      <td>[{'adult': False, 'gender': 2, 'id': 8784, 'kn...</td>\n      <td>[{'adult': False, 'gender': 2, 'id': 1226, 'kn...</td>\n      <td>2204</td>\n      <td>7.083</td>\n    </tr>\n    <tr>\n      <th>2</th>\n      <td>899112</td>\n      <td>Violent Night</td>\n      <td>When a team of mercenaries breaks into a wealt...</td>\n      <td>[{'id': 28, 'name': 'Action'}, {'id': 35, 'nam...</td>\n      <td>[{'id': 65, 'name': 'holiday'}, {'id': 1991, '...</td>\n      <td>[{'adult': False, 'gender': 2, 'id': 35029, 'k...</td>\n      <td>[{'adult': False, 'gender': 2, 'id': 6114, 'kn...</td>\n      <td>805</td>\n      <td>7.742</td>\n    </tr>\n    <tr>\n      <th>3</th>\n      <td>411</td>\n      <td>The Chronicles of Narnia: The Lion, the Witch ...</td>\n      <td>Siblings Lucy, Edmund, Susan and Peter step th...</td>\n      <td>[{'id': 12, 'name': 'Adventure'}, {'id': 10751...</td>\n      <td>[{'id': 83, 'name': 'saving the world'}, {'id'...</td>\n      <td>[{'adult': False, 'gender': 2, 'id': 5527, 'kn...</td>\n      <td>[{'adult': False, 'gender': 2, 'id': 1095, 'kn...</td>\n      <td>9108</td>\n      <td>7.108</td>\n    </tr>\n    <tr>\n      <th>4</th>\n      <td>436270</td>\n      <td>Black Adam</td>\n      <td>Nearly 5,000 years after he was bestowed with ...</td>\n      <td>[{'id': 28, 'name': 'Action'}, {'id': 14, 'nam...</td>\n      <td>[{'id': 952, 'name': 'lightning'}, {'id': 2095...</td>\n      <td>[{'adult': False, 'gender': 2, 'id': 18918, 'k...</td>\n      <td>[{'adult': False, 'gender': 2, 'id': 3687, 'kn...</td>\n      <td>3544</td>\n      <td>7.216</td>\n    </tr>\n    <tr>\n      <th>5</th>\n      <td>736526</td>\n      <td>Troll</td>\n      <td>Deep inside the mountain of Dovre, something g...</td>\n      <td>[{'id': 14, 'name': 'Fantasy'}, {'id': 28, 'na...</td>\n      <td>[{'id': 1262, 'name': 'mountain'}, {'id': 5457...</td>\n      <td>[{'adult': False, 'gender': 1, 'id': 1394758, ...</td>\n      <td>[{'adult': False, 'gender': 2, 'id': 20308, 'k...</td>\n      <td>940</td>\n      <td>6.647</td>\n    </tr>\n    <tr>\n      <th>6</th>\n      <td>19995</td>\n      <td>Avatar</td>\n      <td>In the 22nd century, a paraplegic Marine is di...</td>\n      <td>[{'id': 28, 'name': 'Action'}, {'id': 12, 'nam...</td>\n      <td>[{'id': 1463, 'name': 'culture clash'}, {'id':...</td>\n      <td>[{'adult': False, 'gender': 2, 'id': 65731, 'k...</td>\n      <td>[{'adult': False, 'gender': 2, 'id': 1721, 'kn...</td>\n      <td>27566</td>\n      <td>7.558</td>\n    </tr>\n    <tr>\n      <th>7</th>\n      <td>536554</td>\n      <td>M3GAN</td>\n      <td>A brilliant toy company roboticist uses artifi...</td>\n      <td>[{'id': 27, 'name': 'Horror'}, {'id': 878, 'na...</td>\n      <td>[{'id': 9707, 'name': 'evil doll'}, {'id': 123...</td>\n      <td>[{'adult': False, 'gender': 1, 'id': 1255540, ...</td>\n      <td>[{'adult': False, 'gender': 1, 'id': 494, 'kno...</td>\n      <td>91</td>\n      <td>7.110</td>\n    </tr>\n    <tr>\n      <th>8</th>\n      <td>668482</td>\n      <td>Roald Dahl's Matilda the Musical</td>\n      <td>An extraordinary young girl discovers her supe...</td>\n      <td>[{'id': 10751, 'name': 'Family'}, {'id': 35, '...</td>\n      <td>[{'id': 291, 'name': 'circus'}, {'id': 295, 'n...</td>\n      <td>[{'adult': False, 'gender': 1, 'id': 2442117, ...</td>\n      <td>[{'adult': False, 'gender': 2, 'id': 463, 'kno...</td>\n      <td>255</td>\n      <td>6.822</td>\n    </tr>\n    <tr>\n      <th>9</th>\n      <td>740952</td>\n      <td>Savage Salvation</td>\n      <td>Newly engaged Shelby John and Ruby Red want a ...</td>\n      <td>[{'id': 28, 'name': 'Action'}, {'id': 53, 'nam...</td>\n      <td>[{'id': 9748, 'name': 'revenge'}, {'id': 15593...</td>\n      <td>[{'adult': False, 'gender': 2, 'id': 54738, 'k...</td>\n      <td>[{'adult': False, 'gender': 2, 'id': 17210, 'k...</td>\n      <td>24</td>\n      <td>5.500</td>\n    </tr>\n  </tbody>\n</table>\n</div>"
     },
     "execution_count": 35,
     "metadata": {},
     "output_type": "execute_result"
    }
   ],
   "source": [
    "movies_df.head(10)"
   ],
   "metadata": {
    "collapsed": false
   }
  },
  {
   "cell_type": "code",
   "execution_count": 36,
   "outputs": [
    {
     "data": {
      "text/plain": "\"[{'id': 878, 'name': 'Science Fiction'}, {'id': 12, 'name': 'Adventure'}, {'id': 28, 'name': 'Action'}]\""
     },
     "execution_count": 36,
     "metadata": {},
     "output_type": "execute_result"
    }
   ],
   "source": [
    "movies_df.iloc[0].genres"
   ],
   "metadata": {
    "collapsed": false
   }
  },
  {
   "cell_type": "code",
   "execution_count": 37,
   "outputs": [],
   "source": [
    "#Since genres are in string format, i will need to convert them , for further processing using the ast library to return a list of the genres\n",
    "\n",
    "import ast\n",
    "def process(genre):\n",
    "    final = []\n",
    "    for i in ast.literal_eval(genre):\n",
    "        final.append(i['name'])\n",
    "    return final"
   ],
   "metadata": {
    "collapsed": false
   }
  },
  {
   "cell_type": "code",
   "execution_count": 38,
   "outputs": [
    {
     "data": {
      "text/plain": "   movie_id                                              title  \\\n0     76600                           Avatar: The Way of Water   \n1    661374                  Glass Onion: A Knives Out Mystery   \n2    899112                                      Violent Night   \n3       411  The Chronicles of Narnia: The Lion, the Witch ...   \n4    436270                                         Black Adam   \n5    736526                                              Troll   \n6     19995                                             Avatar   \n7    536554                                              M3GAN   \n8    668482                   Roald Dahl's Matilda the Musical   \n9    740952                                   Savage Salvation   \n\n                                            overview  \\\n0  Set more than a decade after the events of the...   \n1  World-famous detective Benoit Blanc heads to G...   \n2  When a team of mercenaries breaks into a wealt...   \n3  Siblings Lucy, Edmund, Susan and Peter step th...   \n4  Nearly 5,000 years after he was bestowed with ...   \n5  Deep inside the mountain of Dovre, something g...   \n6  In the 22nd century, a paraplegic Marine is di...   \n7  A brilliant toy company roboticist uses artifi...   \n8  An extraordinary young girl discovers her supe...   \n9  Newly engaged Shelby John and Ruby Red want a ...   \n\n                                          genres  \\\n0           [Science Fiction, Adventure, Action]   \n1                    [Mystery, Thriller, Comedy]   \n2              [Action, Comedy, Crime, Thriller]   \n3                   [Adventure, Family, Fantasy]   \n4             [Action, Fantasy, Science Fiction]   \n5                   [Fantasy, Action, Adventure]   \n6  [Action, Adventure, Fantasy, Science Fiction]   \n7            [Horror, Science Fiction, Thriller]   \n8                      [Family, Comedy, Fantasy]   \n9               [Action, Thriller, Crime, Drama]   \n\n                                            keywords  \\\n0  [{'id': 697, 'name': 'loss of loved one'}, {'i...   \n1  [{'id': 703, 'name': 'detective'}, {'id': 1200...   \n2  [{'id': 65, 'name': 'holiday'}, {'id': 1991, '...   \n3  [{'id': 83, 'name': 'saving the world'}, {'id'...   \n4  [{'id': 952, 'name': 'lightning'}, {'id': 2095...   \n5  [{'id': 1262, 'name': 'mountain'}, {'id': 5457...   \n6  [{'id': 1463, 'name': 'culture clash'}, {'id':...   \n7  [{'id': 9707, 'name': 'evil doll'}, {'id': 123...   \n8  [{'id': 291, 'name': 'circus'}, {'id': 295, 'n...   \n9  [{'id': 9748, 'name': 'revenge'}, {'id': 15593...   \n\n                                                cast  \\\n0  [{'adult': False, 'gender': 2, 'id': 65731, 'k...   \n1  [{'adult': False, 'gender': 2, 'id': 8784, 'kn...   \n2  [{'adult': False, 'gender': 2, 'id': 35029, 'k...   \n3  [{'adult': False, 'gender': 2, 'id': 5527, 'kn...   \n4  [{'adult': False, 'gender': 2, 'id': 18918, 'k...   \n5  [{'adult': False, 'gender': 1, 'id': 1394758, ...   \n6  [{'adult': False, 'gender': 2, 'id': 65731, 'k...   \n7  [{'adult': False, 'gender': 1, 'id': 1255540, ...   \n8  [{'adult': False, 'gender': 1, 'id': 2442117, ...   \n9  [{'adult': False, 'gender': 2, 'id': 54738, 'k...   \n\n                                                crew  vote_count  vote_average  \n0  [{'adult': False, 'gender': 2, 'id': 1721, 'kn...        3655         7.711  \n1  [{'adult': False, 'gender': 2, 'id': 1226, 'kn...        2204         7.083  \n2  [{'adult': False, 'gender': 2, 'id': 6114, 'kn...         805         7.742  \n3  [{'adult': False, 'gender': 2, 'id': 1095, 'kn...        9108         7.108  \n4  [{'adult': False, 'gender': 2, 'id': 3687, 'kn...        3544         7.216  \n5  [{'adult': False, 'gender': 2, 'id': 20308, 'k...         940         6.647  \n6  [{'adult': False, 'gender': 2, 'id': 1721, 'kn...       27566         7.558  \n7  [{'adult': False, 'gender': 1, 'id': 494, 'kno...          91         7.110  \n8  [{'adult': False, 'gender': 2, 'id': 463, 'kno...         255         6.822  \n9  [{'adult': False, 'gender': 2, 'id': 17210, 'k...          24         5.500  ",
      "text/html": "<div>\n<style scoped>\n    .dataframe tbody tr th:only-of-type {\n        vertical-align: middle;\n    }\n\n    .dataframe tbody tr th {\n        vertical-align: top;\n    }\n\n    .dataframe thead th {\n        text-align: right;\n    }\n</style>\n<table border=\"1\" class=\"dataframe\">\n  <thead>\n    <tr style=\"text-align: right;\">\n      <th></th>\n      <th>movie_id</th>\n      <th>title</th>\n      <th>overview</th>\n      <th>genres</th>\n      <th>keywords</th>\n      <th>cast</th>\n      <th>crew</th>\n      <th>vote_count</th>\n      <th>vote_average</th>\n    </tr>\n  </thead>\n  <tbody>\n    <tr>\n      <th>0</th>\n      <td>76600</td>\n      <td>Avatar: The Way of Water</td>\n      <td>Set more than a decade after the events of the...</td>\n      <td>[Science Fiction, Adventure, Action]</td>\n      <td>[{'id': 697, 'name': 'loss of loved one'}, {'i...</td>\n      <td>[{'adult': False, 'gender': 2, 'id': 65731, 'k...</td>\n      <td>[{'adult': False, 'gender': 2, 'id': 1721, 'kn...</td>\n      <td>3655</td>\n      <td>7.711</td>\n    </tr>\n    <tr>\n      <th>1</th>\n      <td>661374</td>\n      <td>Glass Onion: A Knives Out Mystery</td>\n      <td>World-famous detective Benoit Blanc heads to G...</td>\n      <td>[Mystery, Thriller, Comedy]</td>\n      <td>[{'id': 703, 'name': 'detective'}, {'id': 1200...</td>\n      <td>[{'adult': False, 'gender': 2, 'id': 8784, 'kn...</td>\n      <td>[{'adult': False, 'gender': 2, 'id': 1226, 'kn...</td>\n      <td>2204</td>\n      <td>7.083</td>\n    </tr>\n    <tr>\n      <th>2</th>\n      <td>899112</td>\n      <td>Violent Night</td>\n      <td>When a team of mercenaries breaks into a wealt...</td>\n      <td>[Action, Comedy, Crime, Thriller]</td>\n      <td>[{'id': 65, 'name': 'holiday'}, {'id': 1991, '...</td>\n      <td>[{'adult': False, 'gender': 2, 'id': 35029, 'k...</td>\n      <td>[{'adult': False, 'gender': 2, 'id': 6114, 'kn...</td>\n      <td>805</td>\n      <td>7.742</td>\n    </tr>\n    <tr>\n      <th>3</th>\n      <td>411</td>\n      <td>The Chronicles of Narnia: The Lion, the Witch ...</td>\n      <td>Siblings Lucy, Edmund, Susan and Peter step th...</td>\n      <td>[Adventure, Family, Fantasy]</td>\n      <td>[{'id': 83, 'name': 'saving the world'}, {'id'...</td>\n      <td>[{'adult': False, 'gender': 2, 'id': 5527, 'kn...</td>\n      <td>[{'adult': False, 'gender': 2, 'id': 1095, 'kn...</td>\n      <td>9108</td>\n      <td>7.108</td>\n    </tr>\n    <tr>\n      <th>4</th>\n      <td>436270</td>\n      <td>Black Adam</td>\n      <td>Nearly 5,000 years after he was bestowed with ...</td>\n      <td>[Action, Fantasy, Science Fiction]</td>\n      <td>[{'id': 952, 'name': 'lightning'}, {'id': 2095...</td>\n      <td>[{'adult': False, 'gender': 2, 'id': 18918, 'k...</td>\n      <td>[{'adult': False, 'gender': 2, 'id': 3687, 'kn...</td>\n      <td>3544</td>\n      <td>7.216</td>\n    </tr>\n    <tr>\n      <th>5</th>\n      <td>736526</td>\n      <td>Troll</td>\n      <td>Deep inside the mountain of Dovre, something g...</td>\n      <td>[Fantasy, Action, Adventure]</td>\n      <td>[{'id': 1262, 'name': 'mountain'}, {'id': 5457...</td>\n      <td>[{'adult': False, 'gender': 1, 'id': 1394758, ...</td>\n      <td>[{'adult': False, 'gender': 2, 'id': 20308, 'k...</td>\n      <td>940</td>\n      <td>6.647</td>\n    </tr>\n    <tr>\n      <th>6</th>\n      <td>19995</td>\n      <td>Avatar</td>\n      <td>In the 22nd century, a paraplegic Marine is di...</td>\n      <td>[Action, Adventure, Fantasy, Science Fiction]</td>\n      <td>[{'id': 1463, 'name': 'culture clash'}, {'id':...</td>\n      <td>[{'adult': False, 'gender': 2, 'id': 65731, 'k...</td>\n      <td>[{'adult': False, 'gender': 2, 'id': 1721, 'kn...</td>\n      <td>27566</td>\n      <td>7.558</td>\n    </tr>\n    <tr>\n      <th>7</th>\n      <td>536554</td>\n      <td>M3GAN</td>\n      <td>A brilliant toy company roboticist uses artifi...</td>\n      <td>[Horror, Science Fiction, Thriller]</td>\n      <td>[{'id': 9707, 'name': 'evil doll'}, {'id': 123...</td>\n      <td>[{'adult': False, 'gender': 1, 'id': 1255540, ...</td>\n      <td>[{'adult': False, 'gender': 1, 'id': 494, 'kno...</td>\n      <td>91</td>\n      <td>7.110</td>\n    </tr>\n    <tr>\n      <th>8</th>\n      <td>668482</td>\n      <td>Roald Dahl's Matilda the Musical</td>\n      <td>An extraordinary young girl discovers her supe...</td>\n      <td>[Family, Comedy, Fantasy]</td>\n      <td>[{'id': 291, 'name': 'circus'}, {'id': 295, 'n...</td>\n      <td>[{'adult': False, 'gender': 1, 'id': 2442117, ...</td>\n      <td>[{'adult': False, 'gender': 2, 'id': 463, 'kno...</td>\n      <td>255</td>\n      <td>6.822</td>\n    </tr>\n    <tr>\n      <th>9</th>\n      <td>740952</td>\n      <td>Savage Salvation</td>\n      <td>Newly engaged Shelby John and Ruby Red want a ...</td>\n      <td>[Action, Thriller, Crime, Drama]</td>\n      <td>[{'id': 9748, 'name': 'revenge'}, {'id': 15593...</td>\n      <td>[{'adult': False, 'gender': 2, 'id': 54738, 'k...</td>\n      <td>[{'adult': False, 'gender': 2, 'id': 17210, 'k...</td>\n      <td>24</td>\n      <td>5.500</td>\n    </tr>\n  </tbody>\n</table>\n</div>"
     },
     "execution_count": 38,
     "metadata": {},
     "output_type": "execute_result"
    }
   ],
   "source": [
    "movies_df['genres']=movies_df['genres'].apply(process)\n",
    "movies_df.head(10)"
   ],
   "metadata": {
    "collapsed": false
   }
  },
  {
   "cell_type": "code",
   "execution_count": 39,
   "outputs": [],
   "source": [],
   "metadata": {
    "collapsed": false
   }
  }
 ],
 "metadata": {
  "kernelspec": {
   "display_name": "Python 3",
   "language": "python",
   "name": "python3"
  },
  "language_info": {
   "codemirror_mode": {
    "name": "ipython",
    "version": 2
   },
   "file_extension": ".py",
   "mimetype": "text/x-python",
   "name": "python",
   "nbconvert_exporter": "python",
   "pygments_lexer": "ipython2",
   "version": "2.7.6"
  }
 },
 "nbformat": 4,
 "nbformat_minor": 0
}
